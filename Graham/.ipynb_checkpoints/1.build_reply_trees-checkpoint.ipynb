{
 "cells": [
  {
   "cell_type": "markdown",
   "metadata": {},
   "source": [
    "# Building reply trees\n",
    "\n",
    "this notebook will take a window dataframe and generate a few specific objects\n",
    "  - original post object\n",
    "      - contains child comment objects\n",
    "      "
   ]
  },
  {
   "cell_type": "code",
   "execution_count": 1,
   "metadata": {},
   "outputs": [],
   "source": [
    "%load_ext autoreload\n",
    "%autoreload 2"
   ]
  },
  {
   "cell_type": "code",
   "execution_count": 2,
   "metadata": {},
   "outputs": [],
   "source": [
    "from reddit_tools import *\n",
    "\n",
    "import pandas as pd\n",
    "import seaborn as sns\n",
    "import numpy as np\n",
    "import os\n",
    "import datetime\n",
    "import matplotlib.pyplot as plt"
   ]
  },
  {
   "cell_type": "markdown",
   "metadata": {},
   "source": [
    "## import data"
   ]
  },
  {
   "cell_type": "code",
   "execution_count": 3,
   "metadata": {},
   "outputs": [],
   "source": [
    "data_dir = '/Users/gheimber/Desktop/Projects/SFI_ShapesAndShapingConsensus/Data/'\n",
    "platform = 'Reddit'\n",
    "topic = 'womens_march_red'\n",
    "filename = 'womens_march_red_short.csv'\n",
    "#filename = 'womens_march_red.csv'\n",
    "\n",
    "womens_march_data = os.path.join(data_dir, platform, topic, filename)"
   ]
  },
  {
   "cell_type": "code",
   "execution_count": 4,
   "metadata": {},
   "outputs": [
    {
     "name": "stderr",
     "output_type": "stream",
     "text": [
      "/anaconda3/envs/lung/lib/python3.7/site-packages/IPython/core/interactiveshell.py:3214: DtypeWarning: Columns (0,4,6) have mixed types. Specify dtype option on import or set low_memory=False.\n",
      "  if (yield from self.run_code(code, result)):\n"
     ]
    }
   ],
   "source": [
    "df = import_csv_as_df(womens_march_data)"
   ]
  },
  {
   "cell_type": "markdown",
   "metadata": {},
   "source": [
    "## subset a certain window of dates"
   ]
  },
  {
   "cell_type": "code",
   "execution_count": 5,
   "metadata": {},
   "outputs": [],
   "source": [
    "t_start = (2018, 1, 18)\n",
    "t_end = (2018, 1, 25)\n",
    "df_window = get_time_window(df, t_start, t_end)"
   ]
  },
  {
   "cell_type": "markdown",
   "metadata": {},
   "source": [
    "### ingest dataframe\n",
    "make into objects:\n",
    "- original post\n",
    "    - child_comments: list of comment ids responding to this comment\n",
    "- comment\n",
    "    - child_comments: list of comment ids responding to this comment\n",
    "- user\n",
    "    - comment_list: list of comment ids written\n",
    "    - responded_to: list of comment ids that user wrote a response to\n",
    "        "
   ]
  },
  {
   "cell_type": "code",
   "execution_count": 6,
   "metadata": {},
   "outputs": [],
   "source": [
    "# first pass over DF\n",
    "from collections import defaultdict\n",
    "id2comment = {}\n",
    "parent2children = defaultdict(list)\n",
    "\n",
    "users = {}\n",
    "for index, row in df.iterrows():\n",
    "    # add comment to dictionary\n",
    "    id2comment[row['id']] = Comment(row)\n",
    "    parent_id = row['parent_id'].split('_')[1]\n",
    "    comment_id = row['id']\n",
    "    parent2children[parent_id].append(comment_id)\n",
    "    "
   ]
  },
  {
   "cell_type": "code",
   "execution_count": 35,
   "metadata": {},
   "outputs": [],
   "source": [
    "op_list[2].add_all_descendants(op_list[2], parent2children, id2comment)"
   ]
  },
  {
   "cell_type": "code",
   "execution_count": 36,
   "metadata": {},
   "outputs": [
    {
     "data": {
      "text/plain": [
       "110"
      ]
     },
     "execution_count": 36,
     "metadata": {},
     "output_type": "execute_result"
    }
   ],
   "source": [
    "op_list[2].total_descendant_number"
   ]
  },
  {
   "cell_type": "code",
   "execution_count": 41,
   "metadata": {},
   "outputs": [],
   "source": [
    "def get_parent_child_list(comment_id, parent2children, node_list):\n",
    "    if not parent2children[comment_id]:\n",
    "        print(comment_id, 'is at the bottom')\n",
    "        return comment_id\n",
    "    else:\n",
    "        for child_id in parent2children[comment_id]:\n",
    "            get_parent_child_list(child_id, parent2children, node_list)\n",
    "            #print(get_parent_child_list(child_id, parent2children, node_list))\n",
    "            #node_list.append(get_parent_child_list(child_id, parent2children, node_list))\n",
    "            #return [(comment_id,child_id) for child_id in parent2children[comment_id]]"
   ]
  },
  {
   "cell_type": "code",
   "execution_count": 42,
   "metadata": {},
   "outputs": [
    {
     "name": "stdout",
     "output_type": "stream",
     "text": [
      "dcp5h5f\n",
      "None\n",
      "dcoyho9\n",
      "dcoztq3\n",
      "dcpizsy\n",
      "None\n",
      "dcoz2ew\n",
      "dcoz57w\n",
      "dcp3y48\n",
      "None\n",
      "dcp2m3y\n",
      "dcp4ep5\n",
      "None\n",
      "dcpfvpz\n",
      "None\n",
      "None\n",
      "None\n",
      "None\n",
      "dcpkkr0\n",
      "None\n",
      "None\n",
      "None\n",
      "None\n",
      "dcp0cf8\n",
      "None\n",
      "dcp16bb\n",
      "None\n",
      "None\n",
      "dcp207l\n",
      "None\n",
      "None\n",
      "None\n",
      "dcq56ad\n",
      "None\n",
      "None\n",
      "None\n",
      "dcp0snu\n",
      "None\n",
      "None\n",
      "dcp148r\n",
      "dcpjhcw\n",
      "dcp8x6z\n",
      "dcqprnb\n",
      "None\n",
      "dcpf6fw\n",
      "dcphpnp\n",
      "None\n",
      "None\n",
      "dcp6lyh\n",
      "None\n",
      "dcp5iu4\n",
      "dcovoqq\n",
      "None\n",
      "None\n",
      "None\n",
      "dcp74f3\n",
      "None\n",
      "dcpd9fk\n",
      "dcp90hh\n",
      "None\n",
      "None\n",
      "dcpemod\n",
      "None\n",
      "None\n",
      "None\n",
      "None\n",
      "dcq0u7s\n",
      "dcpg0ne\n",
      "None\n",
      "dcpg8tn\n",
      "None\n",
      "None\n",
      "None\n",
      "dcpeqhy\n",
      "dcqk6ou\n",
      "None\n",
      "dcpi11g\n",
      "None\n",
      "dcpd75q\n",
      "dcpemk6\n",
      "dcph1uw\n",
      "None\n",
      "dcq1m7k\n",
      "None\n",
      "dcpeyqs\n",
      "None\n",
      "None\n",
      "dcpgbjb\n",
      "None\n",
      "None\n",
      "None\n",
      "None\n",
      "dcpjbh0\n",
      "None\n",
      "dcp0do1\n",
      "None\n",
      "None\n",
      "dcp7vvw\n",
      "None\n",
      "None\n",
      "None\n",
      "dcq9mw7\n",
      "None\n",
      "dcq9nfz\n",
      "None\n",
      "None\n",
      "None\n",
      "None\n",
      "None\n",
      "None\n",
      "None\n",
      "None\n",
      "dcor46j\n",
      "None\n",
      "dcopjhh\n",
      "dcp7fgo\n",
      "None\n",
      "None\n",
      "None\n",
      "dcp6qor\n",
      "dcou3l9\n",
      "None\n",
      "None\n",
      "dcopytt\n",
      "None\n",
      "dcpmra4\n",
      "dcq9pp1\n",
      "dcoqdaa\n",
      "dcoqwdt\n",
      "dcpcr4z\n",
      "dcpi5fp\n",
      "None\n",
      "None\n",
      "dcoum56\n",
      "dcov9lr\n",
      "None\n",
      "dcpeaoz\n",
      "dcp812e\n",
      "None\n",
      "None\n",
      "dcp9rhc\n",
      "None\n",
      "dcp9nxo\n",
      "None\n",
      "None\n",
      "None\n",
      "None\n",
      "dcp96bf\n",
      "None\n",
      "dcoxr7s\n",
      "dcoxy71\n",
      "dcpgbtr\n",
      "None\n",
      "dcparox\n",
      "None\n",
      "dcpj76z\n",
      "None\n",
      "None\n",
      "dcpefzt\n",
      "dcptyvf\n",
      "dcpx4wh\n",
      "None\n",
      "None\n",
      "None\n",
      "None\n",
      "None\n",
      "dcpzll4\n",
      "None\n",
      "dcpfgim\n"
     ]
    }
   ],
   "source": [
    "# make list of pairs of edges\n",
    "op_id = '5ojp4k'\n",
    "node_list = []\n",
    "\n",
    "\n",
    "get_parent_child_list(op_id_list[2], parent2children, node_list)\n"
   ]
  },
  {
   "cell_type": "markdown",
   "metadata": {},
   "source": [
    "### get a list of all original post ids"
   ]
  },
  {
   "cell_type": "code",
   "execution_count": 7,
   "metadata": {},
   "outputs": [
    {
     "name": "stdout",
     "output_type": "stream",
     "text": [
      "1101 original posts\n"
     ]
    }
   ],
   "source": [
    "op_id_list = [op_id[3:] for op_id in df['link_id'].unique()]\n",
    "print(len(op_id_list), 'original posts')"
   ]
  },
  {
   "cell_type": "code",
   "execution_count": 8,
   "metadata": {},
   "outputs": [],
   "source": [
    "# second pass over df, make OP objects\n",
    "op_list = []\n",
    "for op_id in op_id_list:\n",
    "    \n",
    "    # make original post object\n",
    "    op = OriginalPost(op_id)\n",
    "    \n",
    "    #\n",
    "    op.add_all_descendants(op, parent2children, id2comment)\n",
    "    #for child in parent2children[op.id]:\n",
    "        \n",
    "    op_list.append(op)\n"
   ]
  },
  {
   "cell_type": "code",
   "execution_count": 9,
   "metadata": {},
   "outputs": [],
   "source": [
    "max_depth = []\n",
    "total_nodes = []\n",
    "\n",
    "for op in op_list:\n",
    "    max_depth.append(get_max_depth_below_post(op.id, parent2children))\n",
    "    total_nodes.append(count_total_nodes_below_post(op.id, parent2children))"
   ]
  },
  {
   "cell_type": "code",
   "execution_count": 10,
   "metadata": {},
   "outputs": [
    {
     "data": {
      "image/png": "[encoded data removed]",
      "text/plain": [
       "<Figure size 720x360 with 2 Axes>"
      ]
     },
     "metadata": {
      "image/png": {
       "height": 320,
       "width": 616
      },
      "needs_background": "light"
     },
     "output_type": "display_data"
    }
   ],
   "source": [
    "plt.figure(figsize=[10,5])\n",
    "plt.subplot(121)\n",
    "plt.hist(max_depth, bins=35)\n",
    "plt.xlabel('max depth per OP', fontsize=14)\n",
    "plt.ylabel('occurances', fontsize=14)\n",
    "plt.subplot(122)\n",
    "plt.hist(total_nodes, bins=50)\n",
    "plt.xlabel('total node count per OP', fontsize=14)\n",
    "plt.ylabel('occurances', fontsize=14)\n",
    "plt.yscale('log')"
   ]
  },
  {
   "cell_type": "code",
   "execution_count": 11,
   "metadata": {},
   "outputs": [
    {
     "data": {
      "text/plain": [
       "365"
      ]
     },
     "execution_count": 11,
     "metadata": {},
     "output_type": "execute_result"
    }
   ],
   "source": [
    "np.max([op.total_descendant_number for op in op_list])"
   ]
  },
  {
   "cell_type": "code",
   "execution_count": 12,
   "metadata": {},
   "outputs": [
    {
     "data": {
      "text/plain": [
       "'dcjsv4e'"
      ]
     },
     "execution_count": 12,
     "metadata": {},
     "output_type": "execute_result"
    }
   ],
   "source": [
    "id2comment['dcjszg6'].parent_id"
   ]
  },
  {
   "cell_type": "markdown",
   "metadata": {},
   "source": [
    "### show some tree structure for test"
   ]
  },
  {
   "cell_type": "code",
   "execution_count": 13,
   "metadata": {},
   "outputs": [
    {
     "name": "stdout",
     "output_type": "stream",
     "text": [
      "original post's children\n",
      "['dcjzzls', 'dcjsv4e', 'dcjszq7', 'dcjt5rd', 'dcjuepp']\n",
      "look at children of 'dcjsv4e'\n",
      "['dcjszg6']\n",
      "look at children of 'dcjszg6'\n",
      "[]\n"
     ]
    }
   ],
   "source": [
    "print(\"original post's children\")\n",
    "print(op_list[0].get_child_comments())\n",
    "print(\"look at children of 'dcjsv4e'\")\n",
    "print(op_list[0].child_comments[1].get_child_comments())\n",
    "print(\"look at children of 'dcjszg6'\")\n",
    "print(op_list[0].child_comments[1].child_comments[0].get_child_comments())\n"
   ]
  },
  {
   "cell_type": "code",
   "execution_count": 180,
   "metadata": {},
   "outputs": [
    {
     "data": {
      "text/plain": [
       "['dcjszg6']"
      ]
     },
     "execution_count": 180,
     "metadata": {},
     "output_type": "execute_result"
    }
   ],
   "source": [
    "parent2children['dcjsv4e']"
   ]
  },
  {
   "cell_type": "code",
   "execution_count": 51,
   "metadata": {},
   "outputs": [
    {
     "data": {
      "text/html": [
       "<div>\n",
       "<style scoped>\n",
       "    .dataframe tbody tr th:only-of-type {\n",
       "        vertical-align: middle;\n",
       "    }\n",
       "\n",
       "    .dataframe tbody tr th {\n",
       "        vertical-align: top;\n",
       "    }\n",
       "\n",
       "    .dataframe thead th {\n",
       "        text-align: right;\n",
       "    }\n",
       "</style>\n",
       "<table border=\"1\" class=\"dataframe\">\n",
       "  <thead>\n",
       "    <tr style=\"text-align: right;\">\n",
       "      <th></th>\n",
       "      <th>Unnamed: 0</th>\n",
       "      <th>link_id</th>\n",
       "      <th>op_author</th>\n",
       "      <th>locked</th>\n",
       "      <th>num_comments</th>\n",
       "      <th>score</th>\n",
       "      <th>selftext</th>\n",
       "      <th>subreddit</th>\n",
       "      <th>title</th>\n",
       "      <th>author</th>\n",
       "      <th>body</th>\n",
       "      <th>controversiality</th>\n",
       "      <th>id</th>\n",
       "      <th>parent_id</th>\n",
       "      <th>OPcreatedAt</th>\n",
       "      <th>createdAt</th>\n",
       "    </tr>\n",
       "  </thead>\n",
       "  <tbody>\n",
       "    <tr>\n",
       "      <th>9</th>\n",
       "      <td>9</td>\n",
       "      <td>t3_5ojp4k</td>\n",
       "      <td>robertfasher</td>\n",
       "      <td>False</td>\n",
       "      <td>23.0</td>\n",
       "      <td>0.0</td>\n",
       "      <td>Besides, the Women's March on Saturday at City...</td>\n",
       "      <td>houston</td>\n",
       "      <td>Marches/protests this Friday-Sunday?</td>\n",
       "      <td>robertfasher</td>\n",
       "      <td>A Good Shit post</td>\n",
       "      <td>1.0</td>\n",
       "      <td>dcjszg6</td>\n",
       "      <td>t1_dcjsv4e</td>\n",
       "      <td>2017-01-17 18:18:47</td>\n",
       "      <td>2017-01-17 18:36:10</td>\n",
       "    </tr>\n",
       "  </tbody>\n",
       "</table>\n",
       "</div>"
      ],
      "text/plain": [
       "  Unnamed: 0    link_id     op_author locked  num_comments  score  \\\n",
       "9          9  t3_5ojp4k  robertfasher  False          23.0    0.0   \n",
       "\n",
       "                                            selftext subreddit  \\\n",
       "9  Besides, the Women's March on Saturday at City...   houston   \n",
       "\n",
       "                                  title        author              body  \\\n",
       "9  Marches/protests this Friday-Sunday?  robertfasher  A Good Shit post   \n",
       "\n",
       "   controversiality       id   parent_id         OPcreatedAt  \\\n",
       "9               1.0  dcjszg6  t1_dcjsv4e 2017-01-17 18:18:47   \n",
       "\n",
       "            createdAt  \n",
       "9 2017-01-17 18:36:10  "
      ]
     },
     "execution_count": 51,
     "metadata": {},
     "output_type": "execute_result"
    }
   ],
   "source": [
    "df[df['parent_id']==('t1_' + 'dcjsv4e')]"
   ]
  },
  {
   "cell_type": "code",
   "execution_count": 148,
   "metadata": {},
   "outputs": [
    {
     "data": {
      "text/html": [
       "<div>\n",
       "<style scoped>\n",
       "    .dataframe tbody tr th:only-of-type {\n",
       "        vertical-align: middle;\n",
       "    }\n",
       "\n",
       "    .dataframe tbody tr th {\n",
       "        vertical-align: top;\n",
       "    }\n",
       "\n",
       "    .dataframe thead th {\n",
       "        text-align: right;\n",
       "    }\n",
       "</style>\n",
       "<table border=\"1\" class=\"dataframe\">\n",
       "  <thead>\n",
       "    <tr style=\"text-align: right;\">\n",
       "      <th></th>\n",
       "      <th>Unnamed: 0</th>\n",
       "      <th>link_id</th>\n",
       "      <th>op_author</th>\n",
       "      <th>locked</th>\n",
       "      <th>num_comments</th>\n",
       "      <th>score</th>\n",
       "      <th>selftext</th>\n",
       "      <th>subreddit</th>\n",
       "      <th>title</th>\n",
       "      <th>author</th>\n",
       "      <th>body</th>\n",
       "      <th>controversiality</th>\n",
       "      <th>id</th>\n",
       "      <th>parent_id</th>\n",
       "      <th>OPcreatedAt</th>\n",
       "      <th>createdAt</th>\n",
       "    </tr>\n",
       "  </thead>\n",
       "  <tbody>\n",
       "    <tr>\n",
       "      <th>0</th>\n",
       "      <td>0</td>\n",
       "      <td>t3_5ojp4k</td>\n",
       "      <td>robertfasher</td>\n",
       "      <td>False</td>\n",
       "      <td>23.0</td>\n",
       "      <td>0.0</td>\n",
       "      <td>Besides, the Women's March on Saturday at City...</td>\n",
       "      <td>houston</td>\n",
       "      <td>Marches/protests this Friday-Sunday?</td>\n",
       "      <td>countrytime</td>\n",
       "      <td>That's one of the commonly pushed media lies. ...</td>\n",
       "      <td>1.0</td>\n",
       "      <td>dcjxke6</td>\n",
       "      <td>t1_dcjvtvx</td>\n",
       "      <td>2017-01-17 18:18:47</td>\n",
       "      <td>2017-01-17 20:01:33</td>\n",
       "    </tr>\n",
       "    <tr>\n",
       "      <th>1</th>\n",
       "      <td>1</td>\n",
       "      <td>t3_5ojp4k</td>\n",
       "      <td>robertfasher</td>\n",
       "      <td>False</td>\n",
       "      <td>23.0</td>\n",
       "      <td>0.0</td>\n",
       "      <td>Besides, the Women's March on Saturday at City...</td>\n",
       "      <td>houston</td>\n",
       "      <td>Marches/protests this Friday-Sunday?</td>\n",
       "      <td>CramPacked</td>\n",
       "      <td>Where were the protestors against Bill Clinton...</td>\n",
       "      <td>0.0</td>\n",
       "      <td>dckgvr6</td>\n",
       "      <td>t1_dcjun1k</td>\n",
       "      <td>2017-01-17 18:18:47</td>\n",
       "      <td>2017-01-18 02:31:00</td>\n",
       "    </tr>\n",
       "    <tr>\n",
       "      <th>2</th>\n",
       "      <td>2</td>\n",
       "      <td>t3_5ojp4k</td>\n",
       "      <td>robertfasher</td>\n",
       "      <td>False</td>\n",
       "      <td>23.0</td>\n",
       "      <td>0.0</td>\n",
       "      <td>Besides, the Women's March on Saturday at City...</td>\n",
       "      <td>houston</td>\n",
       "      <td>Marches/protests this Friday-Sunday?</td>\n",
       "      <td>[deleted]</td>\n",
       "      <td>[removed]</td>\n",
       "      <td>0.0</td>\n",
       "      <td>dcjzzls</td>\n",
       "      <td>t3_5ojp4k</td>\n",
       "      <td>2017-01-17 18:18:47</td>\n",
       "      <td>2017-01-17 20:47:19</td>\n",
       "    </tr>\n",
       "    <tr>\n",
       "      <th>3</th>\n",
       "      <td>3</td>\n",
       "      <td>t3_5ojp4k</td>\n",
       "      <td>robertfasher</td>\n",
       "      <td>False</td>\n",
       "      <td>23.0</td>\n",
       "      <td>0.0</td>\n",
       "      <td>Besides, the Women's March on Saturday at City...</td>\n",
       "      <td>houston</td>\n",
       "      <td>Marches/protests this Friday-Sunday?</td>\n",
       "      <td>not_a_witch_</td>\n",
       "      <td>I can't believe that I'm re-fighting the gener...</td>\n",
       "      <td>0.0</td>\n",
       "      <td>dckhclz</td>\n",
       "      <td>t1_dcjvhqv</td>\n",
       "      <td>2017-01-17 18:18:47</td>\n",
       "      <td>2017-01-18 02:41:19</td>\n",
       "    </tr>\n",
       "    <tr>\n",
       "      <th>4</th>\n",
       "      <td>4</td>\n",
       "      <td>t3_5ojp4k</td>\n",
       "      <td>robertfasher</td>\n",
       "      <td>False</td>\n",
       "      <td>23.0</td>\n",
       "      <td>0.0</td>\n",
       "      <td>Besides, the Women's March on Saturday at City...</td>\n",
       "      <td>houston</td>\n",
       "      <td>Marches/protests this Friday-Sunday?</td>\n",
       "      <td>CheapBeer</td>\n",
       "      <td>So because he did made the gestures in referen...</td>\n",
       "      <td>1.0</td>\n",
       "      <td>dck0x7u</td>\n",
       "      <td>t1_dcjxke6</td>\n",
       "      <td>2017-01-17 18:18:47</td>\n",
       "      <td>2017-01-17 21:04:47</td>\n",
       "    </tr>\n",
       "  </tbody>\n",
       "</table>\n",
       "</div>"
      ],
      "text/plain": [
       "  Unnamed: 0    link_id     op_author locked  num_comments  score  \\\n",
       "0          0  t3_5ojp4k  robertfasher  False          23.0    0.0   \n",
       "1          1  t3_5ojp4k  robertfasher  False          23.0    0.0   \n",
       "2          2  t3_5ojp4k  robertfasher  False          23.0    0.0   \n",
       "3          3  t3_5ojp4k  robertfasher  False          23.0    0.0   \n",
       "4          4  t3_5ojp4k  robertfasher  False          23.0    0.0   \n",
       "\n",
       "                                            selftext subreddit  \\\n",
       "0  Besides, the Women's March on Saturday at City...   houston   \n",
       "1  Besides, the Women's March on Saturday at City...   houston   \n",
       "2  Besides, the Women's March on Saturday at City...   houston   \n",
       "3  Besides, the Women's March on Saturday at City...   houston   \n",
       "4  Besides, the Women's March on Saturday at City...   houston   \n",
       "\n",
       "                                  title        author  \\\n",
       "0  Marches/protests this Friday-Sunday?   countrytime   \n",
       "1  Marches/protests this Friday-Sunday?    CramPacked   \n",
       "2  Marches/protests this Friday-Sunday?     [deleted]   \n",
       "3  Marches/protests this Friday-Sunday?  not_a_witch_   \n",
       "4  Marches/protests this Friday-Sunday?     CheapBeer   \n",
       "\n",
       "                                                body  controversiality  \\\n",
       "0  That's one of the commonly pushed media lies. ...               1.0   \n",
       "1  Where were the protestors against Bill Clinton...               0.0   \n",
       "2                                          [removed]               0.0   \n",
       "3  I can't believe that I'm re-fighting the gener...               0.0   \n",
       "4  So because he did made the gestures in referen...               1.0   \n",
       "\n",
       "        id   parent_id         OPcreatedAt           createdAt  \n",
       "0  dcjxke6  t1_dcjvtvx 2017-01-17 18:18:47 2017-01-17 20:01:33  \n",
       "1  dckgvr6  t1_dcjun1k 2017-01-17 18:18:47 2017-01-18 02:31:00  \n",
       "2  dcjzzls   t3_5ojp4k 2017-01-17 18:18:47 2017-01-17 20:47:19  \n",
       "3  dckhclz  t1_dcjvhqv 2017-01-17 18:18:47 2017-01-18 02:41:19  \n",
       "4  dck0x7u  t1_dcjxke6 2017-01-17 18:18:47 2017-01-17 21:04:47  "
      ]
     },
     "execution_count": 148,
     "metadata": {},
     "output_type": "execute_result"
    }
   ],
   "source": [
    "df.head()"
   ]
  },
  {
   "cell_type": "code",
   "execution_count": null,
   "metadata": {},
   "outputs": [],
   "source": []
  }
 ],
 "metadata": {
  "kernelspec": {
   "display_name": "Python 3",
   "language": "python",
   "name": "python3"
  },
  "language_info": {
   "codemirror_mode": {
    "name": "ipython",
    "version": 3
   },
   "file_extension": ".py",
   "mimetype": "text/x-python",
   "name": "python",
   "nbconvert_exporter": "python",
   "pygments_lexer": "ipython3",
   "version": "3.7.3"
  }
 },
 "nbformat": 4,
 "nbformat_minor": 2
}
